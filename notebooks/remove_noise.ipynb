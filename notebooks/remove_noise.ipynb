{
 "cells": [
  {
   "cell_type": "code",
   "execution_count": 1,
   "metadata": {},
   "outputs": [],
   "source": [
    "import os\n",
    "import time\n",
    "import pickle\n",
    "import logging\n",
    "import argparse\n",
    "\n",
    "import numpy as np\n",
    "import pandas as pd\n",
    "import functools\n",
    "\n",
    "import multiprocessing\n",
    "from multiprocessing.dummy import Pool as ThreadPool \n",
    "from multiprocessing import Pool as ProcessPool \n",
    "\n",
    "import trackml.dataset"
   ]
  },
  {
   "cell_type": "code",
   "execution_count": 2,
   "metadata": {},
   "outputs": [],
   "source": [
    "def remove_some_noise(hits, cells, truth, keep=1.0):\n",
    "    if keep == 1.0:\n",
    "        return hits, cells, truth\n",
    "    unique_ids = truth.particle_id.unique()\n",
    "    track_ids_to_keep = unique_ids[np.where(unique_ids != 0)]\n",
    "\n",
    "    where_to_keep = truth['particle_id'].isin(track_ids_to_keep)\n",
    "    hit_idx  = hits[where_to_keep].hit_id.values\n",
    "    \n",
    "    noise_hit_idx = hits[~where_to_keep].hit_id.values\n",
    "    if keep <= 0.0:\n",
    "        noise_hit_idx = []\n",
    "    else:\n",
    "        noise_hit_idx = np.random.permutation(noise_hit_idx)[:int(keep * noise_hit_idx.shape[0])]\n",
    "    hit_idx = np.concatenate([hit_idx, noise_hit_idx])\n",
    "        \n",
    "    hits_reduced  = hits[hits['hit_id'].isin(hit_idx)]\n",
    "    truth_reduced = truth[truth['hit_id'].isin(hit_idx)]\n",
    "    cells_reduced = cells[cells['hit_id'].isin(hit_idx)]\n",
    "    return hits_reduced, cells_reduced, truth_reduced"
   ]
  },
  {
   "cell_type": "code",
   "execution_count": 3,
   "metadata": {},
   "outputs": [],
   "source": [
    "#dir_path = \"/global/cfs/cdirs/m3443/data/trackml-kaggle/train_all\"\n",
    "dir_path = \"/global/homes/a/aoka/exatrkx-ctd2020/trackml/train_100_events\"\n",
    "event_path = os.path.join(dir_path, \"event000001005\")"
   ]
  },
  {
   "cell_type": "code",
   "execution_count": 4,
   "metadata": {},
   "outputs": [
    {
     "name": "stdout",
     "output_type": "stream",
     "text": [
      "(110023, 7) (608716, 4) (110023, 9)\n",
      "(101120, 7) (561819, 4) (101120, 9)\n"
     ]
    }
   ],
   "source": [
    "hits, cells, particles, truth = trackml.dataset.load_event(event_path)\n",
    "print(hits.shape, cells.shape, truth.shape)\n",
    "hits, cells, truth = remove_some_noise(hits, cells, truth, 0.5)\n",
    "print(hits.shape, cells.shape, truth.shape)"
   ]
  },
  {
   "cell_type": "code",
   "execution_count": 5,
   "metadata": {},
   "outputs": [
    {
     "data": {
      "text/plain": [
       "8902"
      ]
     },
     "execution_count": 5,
     "metadata": {},
     "output_type": "execute_result"
    }
   ],
   "source": [
    "sum(truth['particle_id']==0)"
   ]
  },
  {
   "cell_type": "code",
   "execution_count": 7,
   "metadata": {},
   "outputs": [],
   "source": [
    "from preprocess import remove_all_endcaps\n",
    "hits, cells, truth = remove_all_endcaps(hits, cells, truth)"
   ]
  },
  {
   "cell_type": "code",
   "execution_count": 8,
   "metadata": {},
   "outputs": [
    {
     "data": {
      "text/plain": [
       "6543"
      ]
     },
     "execution_count": 8,
     "metadata": {},
     "output_type": "execute_result"
    }
   ],
   "source": [
    "sum(truth['particle_id']==0)"
   ]
  },
  {
   "cell_type": "code",
   "execution_count": 9,
   "metadata": {},
   "outputs": [],
   "source": [
    "import matplotlib.pyplot as plt\n",
    "%matplotlib inline"
   ]
  },
  {
   "cell_type": "code",
   "execution_count": 10,
   "metadata": {},
   "outputs": [
    {
     "name": "stdout",
     "output_type": "stream",
     "text": [
      "[0.  0.2 0.4 0.6 0.8 1. ]\n"
     ]
    },
    {
     "data": {
      "text/plain": [
       "<matplotlib.legend.Legend at 0x2aab5940afd0>"
      ]
     },
     "execution_count": 10,
     "metadata": {},
     "output_type": "execute_result"
    },
    {
     "data": {
      "image/png": "[encoded data removed]",
      "text/plain": [
       "<Figure size 432x288 with 1 Axes>"
      ]
     },
     "metadata": {
      "needs_background": "light"
     },
     "output_type": "display_data"
    }
   ],
   "source": [
    "hits, cells, particles, truth = trackml.dataset.load_event(event_path)\n",
    "pt = np.sqrt(particles.px**2 + particles.py**2 + particles.pz**2)\n",
    "particles = particles.assign(pt=pt)\n",
    "keeps = np.arange(0.0, 1.1, 0.2)\n",
    "print(keeps)\n",
    "\n",
    "noise_hits = []\n",
    "not_noise_hits = []\n",
    "\n",
    "for i in keeps:\n",
    "    _, _, reduced_truth = remove_some_noise(hits, cells, truth, i)\n",
    "    n_noise = sum(reduced_truth['particle_id'] == 0)\n",
    "    noise_hits.append(n_noise)\n",
    "    not_noise_hits.append(len(reduced_truth) - n_noise)\n",
    "\n",
    "x = np.arange(len(keeps))  # the label locations\n",
    "width = 0.35  # the width of the bars\n",
    "\n",
    "fig, ax = plt.subplots()\n",
    "rects1 = ax.bar(x - width/2, noise_hits, width, label='noise')\n",
    "rects2 = ax.bar(x + width/2, not_noise_hits, width, label='not noise')\n",
    "\n",
    "# Add some text for labels, title and custom x-axis tick labels, etc.\n",
    "ax.set_ylabel('# of hits')\n",
    "ax.set_xlabel('keep')\n",
    "ax.set_xticks(x)\n",
    "labels = ['%.1f' % (i,) for i in keeps]\n",
    "ax.set_xticklabels(labels)\n",
    "ax.legend()"
   ]
  },
  {
   "cell_type": "code",
   "execution_count": null,
   "metadata": {},
   "outputs": [],
   "source": []
  },
  {
   "cell_type": "code",
   "execution_count": 7,
   "metadata": {},
   "outputs": [],
   "source": [
    "from preprocess import get_one_event, load_detector"
   ]
  },
  {
   "cell_type": "code",
   "execution_count": 8,
   "metadata": {},
   "outputs": [
    {
     "name": "stdout",
     "output_type": "stream",
     "text": [
      "Loading detector...\n",
      "Detector loaded.\n"
     ]
    }
   ],
   "source": [
    "detector_path = \"/global/homes/a/aoka/exatrkx-ctd2020/trackml/detectors.csv\"\n",
    "detector_orig, detector_proc = load_detector(detector_path)\n",
    "event = get_one_event(event_path,detector_orig,detector_proc,True, 0.5, 0)"
   ]
  },
  {
   "cell_type": "code",
   "execution_count": 9,
   "metadata": {},
   "outputs": [
    {
     "data": {
      "text/plain": [
       "[       hit_id           x          y       z  volume_id  layer_id  module_id  \\\n",
       " 0           1  -68.878403   2.077260 -1502.5          7         2          1   \n",
       " 1           2  -91.987801 -10.524700 -1502.5          7         2          1   \n",
       " 2           3  -54.743698  -6.891380 -1502.5          7         2          1   \n",
       " 3           4  -56.549900  -6.883070 -1502.5          7         2          1   \n",
       " 4           5  -55.004700 -11.325500 -1502.5          7         2          1   \n",
       " ...       ...         ...        ...     ...        ...       ...        ...   \n",
       " 92213  110019 -752.534973  65.378098  2944.5         18        12         97   \n",
       " 92214  110020 -783.512024  69.813599  2944.5         18        12         97   \n",
       " 92215  110021 -777.473999   2.915470  2944.5         18        12         97   \n",
       " 92216  110022 -974.481995  10.208400  2952.5         18        12         98   \n",
       " 92217  110023 -961.247009  54.945599  2952.5         18        12         98   \n",
       " \n",
       "        cell_count  cell_val      leta      lphi    lx        ly   lz  \\\n",
       " 0             1.0  0.257111  2.091356  0.844154  0.05   0.05625  0.3   \n",
       " 1             2.0  0.273439  1.623512  1.152572  0.05   0.11250  0.3   \n",
       " 2             1.0  0.284049  2.091356  0.844154  0.05   0.05625  0.3   \n",
       " 3             1.0  0.301796  2.091356  0.844154  0.05   0.05625  0.3   \n",
       " 4             2.0  0.358431  1.623512  1.152572  0.05   0.11250  0.3   \n",
       " ...           ...       ...       ...       ...   ...       ...  ...   \n",
       " 92213         5.0  5.000000  0.067145  1.513168  0.60  10.40000  0.7   \n",
       " 92214         1.0  1.000000  0.067253  1.559258  0.12  10.40000  0.7   \n",
       " 92215         1.0  1.000000  0.067253  1.559258  0.12  10.40000  0.7   \n",
       " 92216         2.0  2.000000  0.067239  1.547723  0.24  10.40000  0.7   \n",
       " 92217         2.0  2.000000  0.067239  1.547723  0.24  10.40000  0.7   \n",
       " \n",
       "            geta      gphi  \n",
       " 0     -2.091356 -2.336410  \n",
       " 1     -1.623512 -2.644828  \n",
       " 2     -2.091356 -2.336410  \n",
       " 3     -2.091356 -2.336410  \n",
       " 4     -1.623512 -2.644828  \n",
       " ...         ...       ...  \n",
       " 92213  0.067145  3.018514  \n",
       " 92214  0.067252  3.064605  \n",
       " 92215  0.067252  3.064605  \n",
       " 92216  0.067239  3.055688  \n",
       " 92217  0.067239  3.055688  \n",
       " \n",
       " [92218 rows x 16 columns],\n",
       "         hit_id         particle_id          tx         ty      tz       tpx  \\\n",
       " hit_id                                                                        \n",
       " 0            1  409833544685191168  -68.863098   2.085910 -1502.5 -0.222967   \n",
       " 1            2  450363536149839872  -92.002296 -10.515500 -1502.5 -0.498183   \n",
       " 2            3  256711500951977984  -54.723099  -6.892780 -1502.5 -0.242608   \n",
       " 3            4  256711432232501248  -56.564301  -6.884460 -1502.5 -2.295520   \n",
       " 4            5   45036339871088640  -54.989498 -11.338000 -1502.5 -0.414272   \n",
       " ...        ...                 ...         ...        ...     ...       ...   \n",
       " 110018  110019   90076528049659906 -756.646973  65.619202  2944.5 -0.013601   \n",
       " 110019  110020  373800555778146304 -780.107971  69.570503  2944.5 -0.332783   \n",
       " 110020  110021  517933061162139648 -780.028015   3.119130  2944.5 -0.520974   \n",
       " 110021  110022   36049412861984768 -971.122009   9.990380  2952.5 -0.930866   \n",
       " 110022  110023   40556379743715328 -963.507996  55.077202  2952.5 -0.425574   \n",
       " \n",
       "              tpy        tpz    weight         pt  \n",
       " hit_id                                            \n",
       " 0       0.027029  -4.871460  0.000007   4.880675  \n",
       " 1      -0.083997  -8.219370  0.000009   8.240234  \n",
       " 2      -0.044478  -6.729290  0.000009   6.737144  \n",
       " 3      -0.264053 -60.863300  0.000031  60.910053  \n",
       " 4      -0.066555 -11.277500  0.000008  11.289529  \n",
       " ...          ...        ...       ...        ...  \n",
       " 110018  0.150778   0.208964  0.000000   0.259504  \n",
       " 110019 -0.068478   1.411590  0.000010   1.462401  \n",
       " 110020 -0.090525   2.133090  0.000008   2.208025  \n",
       " 110021  0.123969   2.767040  0.000019   2.935543  \n",
       " 110022 -0.084756   1.405110  0.000010   1.479655  \n",
       " \n",
       " [92218 rows x 10 columns]]"
      ]
     },
     "execution_count": 9,
     "metadata": {},
     "output_type": "execute_result"
    }
   ],
   "source": [
    "preprocess_one_event(event_path,preproc_path,percent_keep, detector_orig,detector_proc,include_endcaps,\n",
    "                         keep_noise,\n",
    "                         pt_cut,\n",
    "                         force):"
   ]
  },
  {
   "cell_type": "code",
   "execution_count": null,
   "metadata": {},
   "outputs": [],
   "source": []
  }
 ],
 "metadata": {
  "kernelspec": {
   "display_name": "Python [conda env:.conda-exatrkx]",
   "language": "python",
   "name": "conda-env-.conda-exatrkx-py"
  },
  "language_info": {
   "codemirror_mode": {
    "name": "ipython",
    "version": 3
   },
   "file_extension": ".py",
   "mimetype": "text/x-python",
   "name": "python",
   "nbconvert_exporter": "python",
   "pygments_lexer": "ipython3",
   "version": "3.7.7"
  }
 },
 "nbformat": 4,
 "nbformat_minor": 4
}
